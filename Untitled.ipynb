{
 "cells": [
  {
   "cell_type": "code",
   "execution_count": 51,
   "metadata": {},
   "outputs": [],
   "source": [
    "import numpy as np\n",
    "import matplotlib.pyplot as plt"
   ]
  },
  {
   "cell_type": "markdown",
   "metadata": {},
   "source": [
    "# Consecutive Side Lengths"
   ]
  },
  {
   "cell_type": "markdown",
   "metadata": {},
   "source": [
    "Define $a_n$ which is given by\n",
    "\n",
    "$$a_n = -\\frac{1}{2}+\\frac{7-5\\sqrt{2}}{4}\\left(3-2\\sqrt{2}\\right)^n +\\frac{7+5\\sqrt{2}}{4}\\left(3+2\\sqrt{2}\\right)^n$$"
   ]
  },
  {
   "cell_type": "code",
   "execution_count": 37,
   "metadata": {},
   "outputs": [],
   "source": [
    "def a_n(n):\n",
    "    return round(-1/2+(7-5*np.sqrt(2))/4*(3-2*np.sqrt(2))**n+(7+5*np.sqrt(2))/4*(3+2*np.sqrt(2))**n)"
   ]
  },
  {
   "cell_type": "markdown",
   "metadata": {},
   "source": [
    "For large $n$ we can neglect the first two terms (both become significantly small) and we can thus obtain a simple expression for $\\ln(a_n)$.\n",
    "\n",
    "$$\\ln(a_n)=n\\ln\\left(\\frac{1}{4}\\left(7+5\\sqrt{2}\\right)\\left(3+2\\sqrt{2}\\right) \\right) $$\n",
    "\n",
    "which is simply a linear relationship with a slope of $\\approx 3.02$."
   ]
  },
  {
   "cell_type": "code",
   "execution_count": 44,
   "metadata": {},
   "outputs": [],
   "source": [
    "def log_an(n):\n",
    "    return n*np.log((7+5*np.sqrt(2))/4*(3+2*np.sqrt(2)))"
   ]
  },
  {
   "cell_type": "code",
   "execution_count": 45,
   "metadata": {},
   "outputs": [],
   "source": [
    "aa = np.array([log_an(i) for i in range(1000)])"
   ]
  },
  {
   "cell_type": "markdown",
   "metadata": {},
   "source": [
    "The intent of this plot is to show that the 1000th triplet would have a side length $a_{1000} \\approx e^{3000}$- a very big number indeed!"
   ]
  },
  {
   "cell_type": "code",
   "execution_count": 50,
   "metadata": {},
   "outputs": [
    {
     "data": {
      "image/png": "[encoded data removed]",
      "text/plain": [
       "<Figure size 576x360 with 1 Axes>"
      ]
     },
     "metadata": {},
     "output_type": "display_data"
    }
   ],
   "source": [
    "fig, ax = plt.subplots(figsize=(8,5))\n",
    "\n",
    "ax.plot(aa)\n",
    "ax.set_xlabel('n')\n",
    "ax.set_ylabel(r'$\\ln(a_n)$')\n",
    "\n",
    "plt.show()"
   ]
  },
  {
   "cell_type": "markdown",
   "metadata": {},
   "source": [
    "Now obviously $b_n \\approx a_n$ and $c_n \\approx \\sqrt{2} a_n$. Thus the only information we really care about is $a_n$, the rest comes trivially."
   ]
  },
  {
   "cell_type": "markdown",
   "metadata": {},
   "source": [
    "# Even and Odd Triplets..."
   ]
  },
  {
   "cell_type": "markdown",
   "metadata": {},
   "source": [
    "It would be interesting to see the growth rate of other triplets at large $n$. I will have to consider other recursive formulas and attempt to find a general formula as well. We showed that \n",
    "\n",
    "$$\\frac{d}{dn}\\ln(a_n) \\approx 3.02 $$\n",
    "\n",
    "for large $n$. It would be interesting to determine this number for other sets of triplets."
   ]
  }
 ],
 "metadata": {
  "kernelspec": {
   "display_name": "Python 3",
   "language": "python",
   "name": "python3"
  },
  "language_info": {
   "codemirror_mode": {
    "name": "ipython",
    "version": 3
   },
   "file_extension": ".py",
   "mimetype": "text/x-python",
   "name": "python",
   "nbconvert_exporter": "python",
   "pygments_lexer": "ipython3",
   "version": "3.6.5"
  }
 },
 "nbformat": 4,
 "nbformat_minor": 2
}
